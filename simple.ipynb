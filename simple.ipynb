{
 "cells": [
  {
   "cell_type": "code",
   "execution_count": 11,
   "metadata": {
    "pycharm": {
     "is_executing": false
    }
   },
   "outputs": [],
   "source": [
    "import torch\n",
    "import random\n",
    "import numpy as np\n",
    "\n",
    "from tqdm import tqdm\n",
    "from torch import nn, optim\n",
    "from torch.utils.data import DataLoader\n",
    "from sklearn.model_selection import train_test_split\n",
    "\n",
    "from ml_glasses.commons import ToTensor\n",
    "from ml_glasses.data import MeGlassDataset\n",
    "from ml_glasses.model import GlassesClassifier"
   ]
  },
  {
   "cell_type": "code",
   "execution_count": 12,
   "outputs": [],
   "source": [
    "DEVICE = 'cpu'\n",
    "SEED = 5\n",
    "\n",
    "torch.manual_seed(SEED)\n",
    "np.random.seed(SEED)\n",
    "random.seed(SEED)"
   ],
   "metadata": {
    "collapsed": false,
    "pycharm": {
     "name": "#%%\n",
     "is_executing": false
    }
   }
  },
  {
   "cell_type": "code",
   "execution_count": 13,
   "metadata": {
    "pycharm": {
     "is_executing": false
    }
   },
   "outputs": [],
   "source": [
    "with open('meta.txt', 'r') as file:\n",
    "    lines = file.readlines()\n",
    "\n",
    "random.shuffle(lines)\n",
    "lines_train, lines_val = train_test_split(lines, test_size=0.15)\n",
    "\n",
    "dataset_train = MeGlassDataset(lines_train, 'MeGlass_120x120/', transform=ToTensor())\n",
    "dataset_val = MeGlassDataset(lines_val, 'MeGlass_120x120/', transform=ToTensor())\n",
    "\n",
    "dataloader_train = DataLoader(dataset_train, batch_size=32, shuffle=True)\n",
    "dataloader_val = DataLoader(dataset_val, batch_size=32, shuffle=True)"
   ]
  },
  {
   "cell_type": "code",
   "execution_count": 14,
   "metadata": {
    "pycharm": {
     "is_executing": false
    }
   },
   "outputs": [
    {
     "data": {
      "text/plain": "GlassesClassifier(\n  (conv1): Sequential(\n    (0): Conv2d(3, 16, kernel_size=(3, 3), stride=(1, 1), padding=(1, 1))\n    (1): BatchNorm2d(16, eps=1e-05, momentum=0.1, affine=True, track_running_stats=True)\n    (2): ReLU(inplace=True)\n  )\n  (conv2): Sequential(\n    (0): Conv2d(16, 32, kernel_size=(3, 3), stride=(1, 1), padding=(1, 1))\n    (1): BatchNorm2d(32, eps=1e-05, momentum=0.1, affine=True, track_running_stats=True)\n    (2): ReLU(inplace=True)\n  )\n  (conv3): Sequential(\n    (0): Conv2d(32, 32, kernel_size=(3, 3), stride=(1, 1), padding=(1, 1))\n    (1): BatchNorm2d(32, eps=1e-05, momentum=0.1, affine=True, track_running_stats=True)\n    (2): ReLU(inplace=True)\n  )\n  (conv4): Sequential(\n    (0): Conv2d(32, 16, kernel_size=(3, 3), stride=(1, 1), padding=(1, 1))\n    (1): BatchNorm2d(16, eps=1e-05, momentum=0.1, affine=True, track_running_stats=True)\n    (2): ReLU(inplace=True)\n  )\n  (maxpool): MaxPool2d(kernel_size=2, stride=2, padding=0, dilation=1, ceil_mode=False)\n  (avgpool): AdaptiveAvgPool2d(output_size=(1, 1))\n  (fc): Linear(in_features=16, out_features=2, bias=True)\n)"
     },
     "metadata": {},
     "output_type": "execute_result",
     "execution_count": 14
    }
   ],
   "source": [
    "model = GlassesClassifier()\n",
    "model.to(DEVICE)"
   ]
  },
  {
   "cell_type": "code",
   "execution_count": null,
   "metadata": {
    "pycharm": {
     "is_executing": true
    }
   },
   "outputs": [
    {
     "name": "stderr",
     "text": [
      "\n",
      "0it [00:00, ?it/s]\u001b[A\n",
      "1it [00:00,  1.53it/s]\u001b[A\n",
      "2it [00:01,  1.48it/s]\u001b[A\n",
      "3it [00:02,  1.47it/s]\u001b[A\n",
      "4it [00:02,  1.49it/s]\u001b[A\n",
      "5it [00:03,  1.52it/s]\u001b[A\n",
      "6it [00:03,  1.54it/s]\u001b[A\n",
      "7it [00:04,  1.56it/s]\u001b[A\n",
      "8it [00:05,  1.56it/s]\u001b[A\n",
      "9it [00:05,  1.55it/s]\u001b[A\n",
      "10it [00:06,  1.54it/s]\u001b[A\n",
      "11it [00:07,  1.55it/s]\u001b[A\n",
      "12it [00:07,  1.56it/s]\u001b[A\n",
      "13it [00:08,  1.55it/s]\u001b[A\n",
      "14it [00:09,  1.50it/s]\u001b[A\n",
      "15it [00:09,  1.50it/s]\u001b[A\n",
      "16it [00:10,  1.49it/s]\u001b[A\n",
      "17it [00:11,  1.50it/s]\u001b[A\n",
      "18it [00:11,  1.51it/s]\u001b[A\n",
      "19it [00:12,  1.52it/s]\u001b[A\n",
      "20it [00:13,  1.53it/s]\u001b[A\n",
      "21it [00:13,  1.56it/s]\u001b[A\n",
      "22it [00:14,  1.59it/s]\u001b[A\n",
      "23it [00:14,  1.61it/s]\u001b[A\n",
      "24it [00:15,  1.65it/s]\u001b[A\n",
      "25it [00:16,  1.68it/s]\u001b[A\n",
      "26it [00:16,  1.70it/s]\u001b[A\n",
      "27it [00:17,  1.71it/s]\u001b[A"
     ],
     "output_type": "stream"
    },
    {
     "name": "stdout",
     "text": [
      "-- EPOCH 0\n"
     ],
     "output_type": "stream"
    }
   ],
   "source": [
    "criterion = nn.CrossEntropyLoss()\n",
    "optimizer = optim.SGD(model.parameters(), lr=0.001, momentum=0.9)\n",
    "best_val_accuracy = 0.0\n",
    "\n",
    "for epoch in range(10):\n",
    "    model.train(True)\n",
    "    print(\"-- EPOCH\", epoch)\n",
    "    running_loss = 0.0\n",
    "    \n",
    "    for i, batch in tqdm(enumerate(dataloader_train)):\n",
    "        X = batch['image'].to(DEVICE)\n",
    "        y = batch['label'].to(DEVICE)\n",
    "        \n",
    "        output = model(X)\n",
    "        loss = criterion(output, y)\n",
    "        \n",
    "        optimizer.zero_grad()\n",
    "        loss.backward()\n",
    "        optimizer.step()\n",
    "        \n",
    "    model.train(False)\n",
    "    correct = 0\n",
    "    total = 0\n",
    "    for batch in dataloader_val:\n",
    "        X_val = batch['image'].to(DEVICE)\n",
    "        y_val = batch['label'].to(DEVICE)\n",
    "        \n",
    "        pred = model(X_val)\n",
    "        _, pred = torch.max(pred.data, 1)\n",
    "        total += y_val.size(0)\n",
    "        correct += (pred == y_val).sum().item()\n",
    "        \n",
    "    val_accuracy = correct / total\n",
    "    if val_accuracy > best_val_accuracy:\n",
    "        best_val_accuracy = val_accuracy\n",
    "        torch.save(model.state_dict(), \"./checkpoint.pt\")\n",
    "        \n",
    "    print('Validation accuracy: %d %%', (100 * val_accuracy))"
   ]
  },
  {
   "cell_type": "code",
   "execution_count": 15,
   "metadata": {
    "pycharm": {
     "is_executing": false
    }
   },
   "outputs": [
    {
     "name": "stderr",
     "text": [
      "100%|██████████| 225/225 [00:05<00:00, 43.20it/s]\n"
     ],
     "output_type": "stream"
    }
   ],
   "source": [
    "model.train(False)\n",
    "correct = 0\n",
    "total = 0\n",
    "\n",
    "false_positive = 0\n",
    "false_negative = 0\n",
    "\n",
    "positive = 0\n",
    "\n",
    "for X_val, y_val in tqdm(dataloader_val):\n",
    "    X_val = X_val.to(DEVICE)\n",
    "    y_val = y_val.to(DEVICE)\n",
    "    \n",
    "    pred = model(X_val)\n",
    "    _, pred = torch.max(pred.data, 1)\n",
    "    total += y_val.size(0)\n",
    "    correct += (pred == y_val).sum().item()\n",
    "    false_positive += ((pred == 1) & (y_val == 0)).sum().item()\n",
    "    false_negative += ((pred == 0) & (y_val == 1)).sum().item()\n",
    "    positive += y_val.sum().item()"
   ]
  },
  {
   "cell_type": "code",
   "execution_count": 11,
   "outputs": [
    {
     "data": {
      "text/plain": "15"
     },
     "metadata": {},
     "output_type": "execute_result",
     "execution_count": 11
    }
   ],
   "source": [
    "false_positive"
   ],
   "metadata": {
    "collapsed": false,
    "pycharm": {
     "name": "#%%\n",
     "is_executing": false
    }
   }
  },
  {
   "cell_type": "code",
   "execution_count": 12,
   "metadata": {
    "pycharm": {
     "is_executing": false
    }
   },
   "outputs": [
    {
     "name": "stderr",
     "text": [
      "100%|██████████| 225/225 [00:04<00:00, 47.14it/s]\n"
     ],
     "output_type": "stream"
    }
   ],
   "source": [
    "for X_val, y_val in tqdm(dataloader_val):\n",
    "    X = X_val.to(DEVICE)\n",
    "    y = y_val.to(DEVICE)\n",
    "    break\n",
    "    "
   ]
  },
  {
   "cell_type": "code",
   "execution_count": 21,
   "outputs": [
    {
     "data": {
      "text/plain": "<Figure size 432x288 with 1 Axes>",
      "image/png": "[encoded data removed]"
     },
     "metadata": {
      "needs_background": "light"
     },
     "output_type": "display_data"
    }
   ],
   "source": [
    "from matplotlib import pyplot as plt\n",
    "%matplotlib inline\n",
    "\n",
    "plt.imshow(X_val[1].detach().cpu().numpy().transpose((1, 2, 0)))\n",
    "plt.show()"
   ],
   "metadata": {
    "collapsed": false,
    "pycharm": {
     "name": "#%%\n",
     "is_executing": false
    }
   }
  },
  {
   "cell_type": "code",
   "execution_count": 18,
   "outputs": [
    {
     "data": {
      "text/plain": "torch.Size([120, 120, 3])"
     },
     "metadata": {},
     "output_type": "execute_result",
     "execution_count": 18
    }
   ],
   "source": [
    "X_val[0].transpose(0, 2).shape"
   ],
   "metadata": {
    "collapsed": false,
    "pycharm": {
     "name": "#%%\n",
     "is_executing": false
    }
   }
  },
  {
   "cell_type": "code",
   "execution_count": null,
   "outputs": [],
   "source": [
    "\n"
   ],
   "metadata": {
    "collapsed": false,
    "pycharm": {
     "name": "#%%\n"
    }
   }
  }
 ],
 "metadata": {
  "kernelspec": {
   "display_name": "Python 3",
   "language": "python",
   "name": "python3"
  },
  "language_info": {
   "codemirror_mode": {
    "name": "ipython",
    "version": 3
   },
   "file_extension": ".py",
   "mimetype": "text/x-python",
   "name": "python",
   "nbconvert_exporter": "python",
   "pygments_lexer": "ipython3",
   "version": "3.7.5"
  },
  "pycharm": {
   "stem_cell": {
    "cell_type": "raw",
    "source": [],
    "metadata": {
     "collapsed": false
    }
   }
  }
 },
 "nbformat": 4,
 "nbformat_minor": 4
}