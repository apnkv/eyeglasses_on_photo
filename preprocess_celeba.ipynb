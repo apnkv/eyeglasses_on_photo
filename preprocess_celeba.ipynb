{
 "cells": [
  {
   "cell_type": "code",
   "execution_count": 1,
   "metadata": {
    "pycharm": {
     "is_executing": false
    }
   },
   "outputs": [],
   "source": [
    "%matplotlib inline\n",
    "\n",
    "import torch\n",
    "import random\n",
    "import torchvision\n",
    "from tqdm import tqdm\n",
    "from PIL import Image\n",
    "from matplotlib import pyplot as plt\n",
    "\n",
    "from ml_glasses.commons import FaceAlignTransform\n",
    "\n",
    "\n",
    "class ConvertPilJpegFileToImage:\n",
    "    def __call__(self, image):\n",
    "        image.load()\n",
    "        return image._new(image.im)"
   ]
  },
  {
   "cell_type": "markdown",
   "metadata": {},
   "source": [
    "Let's make a CelebA-based eyeglasses dataset by taking all images with eyeglasses and the same amount of random images without them. I'll also align the faces in them."
   ]
  },
  {
   "cell_type": "code",
   "execution_count": 2,
   "metadata": {
    "collapsed": false,
    "jupyter": {
     "outputs_hidden": false
    },
    "pycharm": {
     "is_executing": false,
     "name": "#%%\n"
    }
   },
   "outputs": [
    {
     "data": {
      "text/plain": [
       "True"
      ]
     },
     "execution_count": 2,
     "metadata": {},
     "output_type": "execute_result"
    }
   ],
   "source": [
    "import dlib\n",
    "dlib.DLIB_USE_CUDA"
   ]
  },
  {
   "cell_type": "code",
   "execution_count": null,
   "metadata": {},
   "outputs": [
    {
     "name": "stderr",
     "output_type": "stream",
     "text": [
      " 52%|█████▏    | 84470/162770 [01:10<01:04, 1222.28it/s]"
     ]
    }
   ],
   "source": [
    "torch.manual_seed(5)\n",
    "random.seed(5)\n",
    "\n",
    "for split in ('train', 'valid'):\n",
    "    celeba = torchvision.datasets.CelebA('.', split=split, transform=ConvertPilJpegFileToImage())\n",
    "    aligner = FaceAlignTransform()\n",
    "\n",
    "    total_eyeglasses = 10000\n",
    "    for _, attrs in tqdm(celeba):\n",
    "        if attrs[15] == 1:\n",
    "            total_eyeglasses += 1\n",
    "\n",
    "    no_eyeglass_left = total_eyeglasses # mathes the no. of images with eyeglasses\n",
    "\n",
    "    idxs = list(range(len(celeba)))\n",
    "    random.shuffle(idxs)  # to pick random no-eyeglasses samples\n",
    "\n",
    "    meta_file = open(f'meta_celeba_{split}.txt', 'w')\n",
    "\n",
    "    errors = 0\n",
    "\n",
    "    for idx in tqdm(idxs):\n",
    "        image, attrs = celeba[idx]\n",
    "\n",
    "        has_eyeglasses = attrs[15] == 1\n",
    "\n",
    "        try:\n",
    "            if has_eyeglasses or no_eyeglass_left > 0:\n",
    "                label = 1 if has_eyeglasses else 0\n",
    "                image = aligner(image)\n",
    "                \n",
    "                filename = f'celeba_eyeglasses_{split}/{idx}_{label}.png'\n",
    "                Image.fromarray(image).save(filename)\n",
    "                meta_file.write(f'{idx}_{label}.png {label}\\n')\n",
    "                \n",
    "                if label == 0 and no_eyeglass_left > 0:\n",
    "                    no_eyeglass_left -= 1\n",
    "\n",
    "        except IndexError:\n",
    "            errors += 1\n",
    "            \n",
    "    meta_file.close()"
   ]
  },
  {
   "cell_type": "code",
   "execution_count": 61,
   "metadata": {},
   "outputs": [],
   "source": []
  },
  {
   "cell_type": "code",
   "execution_count": 65,
   "metadata": {},
   "outputs": [],
   "source": [
    "img = Image.fromarray(images[0])"
   ]
  },
  {
   "cell_type": "code",
   "execution_count": 66,
   "metadata": {},
   "outputs": [],
   "source": [
    "img.save('kek.png')"
   ]
  },
  {
   "cell_type": "code",
   "execution_count": null,
   "metadata": {},
   "outputs": [],
   "source": []
  }
 ],
 "metadata": {
  "kernelspec": {
   "display_name": "Python 3",
   "language": "python",
   "name": "python3"
  },
  "language_info": {
   "codemirror_mode": {
    "name": "ipython",
    "version": 3
   },
   "file_extension": ".py",
   "mimetype": "text/x-python",
   "name": "python",
   "nbconvert_exporter": "python",
   "pygments_lexer": "ipython3",
   "version": "3.6.10"
  },
  "pycharm": {
   "stem_cell": {
    "cell_type": "raw",
    "metadata": {
     "collapsed": false
    },
    "source": []
   }
  }
 },
 "nbformat": 4,
 "nbformat_minor": 4
}
